{
 "cells": [
  {
   "cell_type": "code",
   "execution_count": 28,
   "id": "b1c3a314",
   "metadata": {
    "id": "b1c3a314"
   },
   "outputs": [],
   "source": [
    "import pandas as pd\n"
   ]
  },
  {
   "cell_type": "code",
   "execution_count": 29,
   "id": "4077a185",
   "metadata": {
    "id": "4077a185"
   },
   "outputs": [],
   "source": [
    "data= pd.read_csv('spotify_songs.csv')"
   ]
  },
  {
   "cell_type": "code",
   "execution_count": 30,
   "id": "4991c13e",
   "metadata": {
    "colab": {
     "base_uri": "https://localhost:8080/",
     "height": 1000
    },
    "id": "4991c13e",
    "outputId": "2b03a1d2-dcf9-4f29-ec3c-e260bc227893"
   },
   "outputs": [
    {
     "data": {
      "text/html": [
       "<div>\n",
       "<style scoped>\n",
       "    .dataframe tbody tr th:only-of-type {\n",
       "        vertical-align: middle;\n",
       "    }\n",
       "\n",
       "    .dataframe tbody tr th {\n",
       "        vertical-align: top;\n",
       "    }\n",
       "\n",
       "    .dataframe thead th {\n",
       "        text-align: right;\n",
       "    }\n",
       "</style>\n",
       "<table border=\"1\" class=\"dataframe\">\n",
       "  <thead>\n",
       "    <tr style=\"text-align: right;\">\n",
       "      <th></th>\n",
       "      <th>track_id</th>\n",
       "      <th>track_name</th>\n",
       "      <th>track_artist</th>\n",
       "      <th>track_popularity</th>\n",
       "      <th>track_album_id</th>\n",
       "      <th>track_album_name</th>\n",
       "      <th>track_album_release_date</th>\n",
       "      <th>playlist_name</th>\n",
       "      <th>playlist_id</th>\n",
       "      <th>playlist_genre</th>\n",
       "      <th>...</th>\n",
       "      <th>key</th>\n",
       "      <th>loudness</th>\n",
       "      <th>mode</th>\n",
       "      <th>speechiness</th>\n",
       "      <th>acousticness</th>\n",
       "      <th>instrumentalness</th>\n",
       "      <th>liveness</th>\n",
       "      <th>valence</th>\n",
       "      <th>tempo</th>\n",
       "      <th>duration_ms</th>\n",
       "    </tr>\n",
       "  </thead>\n",
       "  <tbody>\n",
       "    <tr>\n",
       "      <th>0</th>\n",
       "      <td>6f807x0ima9a1j3VPbc7VN</td>\n",
       "      <td>I Don't Care (with Justin Bieber) - Loud Luxur...</td>\n",
       "      <td>Ed Sheeran</td>\n",
       "      <td>66</td>\n",
       "      <td>2oCs0DGTsRO98Gh5ZSl2Cx</td>\n",
       "      <td>I Don't Care (with Justin Bieber) [Loud Luxury...</td>\n",
       "      <td>2019-06-14</td>\n",
       "      <td>Pop Remix</td>\n",
       "      <td>37i9dQZF1DXcZDD7cfEKhW</td>\n",
       "      <td>pop</td>\n",
       "      <td>...</td>\n",
       "      <td>6</td>\n",
       "      <td>-2.634</td>\n",
       "      <td>1</td>\n",
       "      <td>0.0583</td>\n",
       "      <td>0.10200</td>\n",
       "      <td>0.000000</td>\n",
       "      <td>0.0653</td>\n",
       "      <td>0.518</td>\n",
       "      <td>122.036</td>\n",
       "      <td>194754</td>\n",
       "    </tr>\n",
       "    <tr>\n",
       "      <th>1</th>\n",
       "      <td>0r7CVbZTWZgbTCYdfa2P31</td>\n",
       "      <td>Memories - Dillon Francis Remix</td>\n",
       "      <td>Maroon 5</td>\n",
       "      <td>67</td>\n",
       "      <td>63rPSO264uRjW1X5E6cWv6</td>\n",
       "      <td>Memories (Dillon Francis Remix)</td>\n",
       "      <td>2019-12-13</td>\n",
       "      <td>Pop Remix</td>\n",
       "      <td>37i9dQZF1DXcZDD7cfEKhW</td>\n",
       "      <td>pop</td>\n",
       "      <td>...</td>\n",
       "      <td>11</td>\n",
       "      <td>-4.969</td>\n",
       "      <td>1</td>\n",
       "      <td>0.0373</td>\n",
       "      <td>0.07240</td>\n",
       "      <td>0.004210</td>\n",
       "      <td>0.3570</td>\n",
       "      <td>0.693</td>\n",
       "      <td>99.972</td>\n",
       "      <td>162600</td>\n",
       "    </tr>\n",
       "    <tr>\n",
       "      <th>2</th>\n",
       "      <td>1z1Hg7Vb0AhHDiEmnDE79l</td>\n",
       "      <td>All the Time - Don Diablo Remix</td>\n",
       "      <td>Zara Larsson</td>\n",
       "      <td>70</td>\n",
       "      <td>1HoSmj2eLcsrR0vE9gThr4</td>\n",
       "      <td>All the Time (Don Diablo Remix)</td>\n",
       "      <td>2019-07-05</td>\n",
       "      <td>Pop Remix</td>\n",
       "      <td>37i9dQZF1DXcZDD7cfEKhW</td>\n",
       "      <td>pop</td>\n",
       "      <td>...</td>\n",
       "      <td>1</td>\n",
       "      <td>-3.432</td>\n",
       "      <td>0</td>\n",
       "      <td>0.0742</td>\n",
       "      <td>0.07940</td>\n",
       "      <td>0.000023</td>\n",
       "      <td>0.1100</td>\n",
       "      <td>0.613</td>\n",
       "      <td>124.008</td>\n",
       "      <td>176616</td>\n",
       "    </tr>\n",
       "    <tr>\n",
       "      <th>3</th>\n",
       "      <td>75FpbthrwQmzHlBJLuGdC7</td>\n",
       "      <td>Call You Mine - Keanu Silva Remix</td>\n",
       "      <td>The Chainsmokers</td>\n",
       "      <td>60</td>\n",
       "      <td>1nqYsOef1yKKuGOVchbsk6</td>\n",
       "      <td>Call You Mine - The Remixes</td>\n",
       "      <td>2019-07-19</td>\n",
       "      <td>Pop Remix</td>\n",
       "      <td>37i9dQZF1DXcZDD7cfEKhW</td>\n",
       "      <td>pop</td>\n",
       "      <td>...</td>\n",
       "      <td>7</td>\n",
       "      <td>-3.778</td>\n",
       "      <td>1</td>\n",
       "      <td>0.1020</td>\n",
       "      <td>0.02870</td>\n",
       "      <td>0.000009</td>\n",
       "      <td>0.2040</td>\n",
       "      <td>0.277</td>\n",
       "      <td>121.956</td>\n",
       "      <td>169093</td>\n",
       "    </tr>\n",
       "    <tr>\n",
       "      <th>4</th>\n",
       "      <td>1e8PAfcKUYoKkxPhrHqw4x</td>\n",
       "      <td>Someone You Loved - Future Humans Remix</td>\n",
       "      <td>Lewis Capaldi</td>\n",
       "      <td>69</td>\n",
       "      <td>7m7vv9wlQ4i0LFuJiE2zsQ</td>\n",
       "      <td>Someone You Loved (Future Humans Remix)</td>\n",
       "      <td>2019-03-05</td>\n",
       "      <td>Pop Remix</td>\n",
       "      <td>37i9dQZF1DXcZDD7cfEKhW</td>\n",
       "      <td>pop</td>\n",
       "      <td>...</td>\n",
       "      <td>1</td>\n",
       "      <td>-4.672</td>\n",
       "      <td>1</td>\n",
       "      <td>0.0359</td>\n",
       "      <td>0.08030</td>\n",
       "      <td>0.000000</td>\n",
       "      <td>0.0833</td>\n",
       "      <td>0.725</td>\n",
       "      <td>123.976</td>\n",
       "      <td>189052</td>\n",
       "    </tr>\n",
       "    <tr>\n",
       "      <th>5</th>\n",
       "      <td>7fvUMiyapMsRRxr07cU8Ef</td>\n",
       "      <td>Beautiful People (feat. Khalid) - Jack Wins Remix</td>\n",
       "      <td>Ed Sheeran</td>\n",
       "      <td>67</td>\n",
       "      <td>2yiy9cd2QktrNvWC2EUi0k</td>\n",
       "      <td>Beautiful People (feat. Khalid) [Jack Wins Remix]</td>\n",
       "      <td>2019-07-11</td>\n",
       "      <td>Pop Remix</td>\n",
       "      <td>37i9dQZF1DXcZDD7cfEKhW</td>\n",
       "      <td>pop</td>\n",
       "      <td>...</td>\n",
       "      <td>8</td>\n",
       "      <td>-5.385</td>\n",
       "      <td>1</td>\n",
       "      <td>0.1270</td>\n",
       "      <td>0.07990</td>\n",
       "      <td>0.000000</td>\n",
       "      <td>0.1430</td>\n",
       "      <td>0.585</td>\n",
       "      <td>124.982</td>\n",
       "      <td>163049</td>\n",
       "    </tr>\n",
       "    <tr>\n",
       "      <th>6</th>\n",
       "      <td>2OAylPUDDfwRGfe0lYqlCQ</td>\n",
       "      <td>Never Really Over - R3HAB Remix</td>\n",
       "      <td>Katy Perry</td>\n",
       "      <td>62</td>\n",
       "      <td>7INHYSeusaFlyrHSNxm8qH</td>\n",
       "      <td>Never Really Over (R3HAB Remix)</td>\n",
       "      <td>2019-07-26</td>\n",
       "      <td>Pop Remix</td>\n",
       "      <td>37i9dQZF1DXcZDD7cfEKhW</td>\n",
       "      <td>pop</td>\n",
       "      <td>...</td>\n",
       "      <td>5</td>\n",
       "      <td>-4.788</td>\n",
       "      <td>0</td>\n",
       "      <td>0.0623</td>\n",
       "      <td>0.18700</td>\n",
       "      <td>0.000000</td>\n",
       "      <td>0.1760</td>\n",
       "      <td>0.152</td>\n",
       "      <td>112.648</td>\n",
       "      <td>187675</td>\n",
       "    </tr>\n",
       "    <tr>\n",
       "      <th>7</th>\n",
       "      <td>6b1RNvAcJjQH73eZO4BLAB</td>\n",
       "      <td>Post Malone (feat. RANI) - GATTÜSO Remix</td>\n",
       "      <td>Sam Feldt</td>\n",
       "      <td>69</td>\n",
       "      <td>6703SRPsLkS4bPtMFFJes1</td>\n",
       "      <td>Post Malone (feat. RANI) [GATTÜSO Remix]</td>\n",
       "      <td>2019-08-29</td>\n",
       "      <td>Pop Remix</td>\n",
       "      <td>37i9dQZF1DXcZDD7cfEKhW</td>\n",
       "      <td>pop</td>\n",
       "      <td>...</td>\n",
       "      <td>4</td>\n",
       "      <td>-2.419</td>\n",
       "      <td>0</td>\n",
       "      <td>0.0434</td>\n",
       "      <td>0.03350</td>\n",
       "      <td>0.000005</td>\n",
       "      <td>0.1110</td>\n",
       "      <td>0.367</td>\n",
       "      <td>127.936</td>\n",
       "      <td>207619</td>\n",
       "    </tr>\n",
       "    <tr>\n",
       "      <th>8</th>\n",
       "      <td>7bF6tCO3gFb8INrEDcjNT5</td>\n",
       "      <td>Tough Love - Tiësto Remix / Radio Edit</td>\n",
       "      <td>Avicii</td>\n",
       "      <td>68</td>\n",
       "      <td>7CvAfGvq4RlIwEbT9o8Iav</td>\n",
       "      <td>Tough Love (Tiësto Remix)</td>\n",
       "      <td>2019-06-14</td>\n",
       "      <td>Pop Remix</td>\n",
       "      <td>37i9dQZF1DXcZDD7cfEKhW</td>\n",
       "      <td>pop</td>\n",
       "      <td>...</td>\n",
       "      <td>8</td>\n",
       "      <td>-3.562</td>\n",
       "      <td>1</td>\n",
       "      <td>0.0565</td>\n",
       "      <td>0.02490</td>\n",
       "      <td>0.000004</td>\n",
       "      <td>0.6370</td>\n",
       "      <td>0.366</td>\n",
       "      <td>127.015</td>\n",
       "      <td>193187</td>\n",
       "    </tr>\n",
       "    <tr>\n",
       "      <th>9</th>\n",
       "      <td>1IXGILkPm0tOCNeq00kCPa</td>\n",
       "      <td>If I Can't Have You - Gryffin Remix</td>\n",
       "      <td>Shawn Mendes</td>\n",
       "      <td>67</td>\n",
       "      <td>4QxzbfSsVryEQwvPFEV5Iu</td>\n",
       "      <td>If I Can't Have You (Gryffin Remix)</td>\n",
       "      <td>2019-06-20</td>\n",
       "      <td>Pop Remix</td>\n",
       "      <td>37i9dQZF1DXcZDD7cfEKhW</td>\n",
       "      <td>pop</td>\n",
       "      <td>...</td>\n",
       "      <td>2</td>\n",
       "      <td>-4.552</td>\n",
       "      <td>1</td>\n",
       "      <td>0.0320</td>\n",
       "      <td>0.05670</td>\n",
       "      <td>0.000000</td>\n",
       "      <td>0.0919</td>\n",
       "      <td>0.590</td>\n",
       "      <td>124.957</td>\n",
       "      <td>253040</td>\n",
       "    </tr>\n",
       "    <tr>\n",
       "      <th>10</th>\n",
       "      <td>3eFJI470ALf1EYjywPRsJy</td>\n",
       "      <td>Cross Me (feat. Chance the Rapper &amp; PnB Rock) ...</td>\n",
       "      <td>Ed Sheeran</td>\n",
       "      <td>58</td>\n",
       "      <td>49bXZtlI5kQSqQMSCnSaWO</td>\n",
       "      <td>Cross Me (feat. Chance the Rapper &amp; PnB Rock) ...</td>\n",
       "      <td>2019-06-21</td>\n",
       "      <td>Pop Remix</td>\n",
       "      <td>37i9dQZF1DXcZDD7cfEKhW</td>\n",
       "      <td>pop</td>\n",
       "      <td>...</td>\n",
       "      <td>6</td>\n",
       "      <td>-6.500</td>\n",
       "      <td>1</td>\n",
       "      <td>0.1810</td>\n",
       "      <td>0.14600</td>\n",
       "      <td>0.000005</td>\n",
       "      <td>0.1240</td>\n",
       "      <td>0.752</td>\n",
       "      <td>121.984</td>\n",
       "      <td>207894</td>\n",
       "    </tr>\n",
       "    <tr>\n",
       "      <th>11</th>\n",
       "      <td>3iJeF2izF1QcpCgUc97BLl</td>\n",
       "      <td>Hate Me - R3HAB Remix</td>\n",
       "      <td>Ellie Goulding</td>\n",
       "      <td>67</td>\n",
       "      <td>6e6RVFWdZaoTiLAZOCMnps</td>\n",
       "      <td>Hate Me (R3HAB Remix)</td>\n",
       "      <td>2019-08-16</td>\n",
       "      <td>Pop Remix</td>\n",
       "      <td>37i9dQZF1DXcZDD7cfEKhW</td>\n",
       "      <td>pop</td>\n",
       "      <td>...</td>\n",
       "      <td>8</td>\n",
       "      <td>-4.918</td>\n",
       "      <td>1</td>\n",
       "      <td>0.0554</td>\n",
       "      <td>0.14800</td>\n",
       "      <td>0.000000</td>\n",
       "      <td>0.1330</td>\n",
       "      <td>0.329</td>\n",
       "      <td>123.125</td>\n",
       "      <td>203733</td>\n",
       "    </tr>\n",
       "    <tr>\n",
       "      <th>12</th>\n",
       "      <td>6e0CvGZf7CouOpYF8toXHC</td>\n",
       "      <td>Body On My</td>\n",
       "      <td>Loud Luxury</td>\n",
       "      <td>67</td>\n",
       "      <td>2R66I0nzp3NnuUlzIGWQ5P</td>\n",
       "      <td>Body On My</td>\n",
       "      <td>2019-03-29</td>\n",
       "      <td>Pop Remix</td>\n",
       "      <td>37i9dQZF1DXcZDD7cfEKhW</td>\n",
       "      <td>pop</td>\n",
       "      <td>...</td>\n",
       "      <td>1</td>\n",
       "      <td>-4.675</td>\n",
       "      <td>1</td>\n",
       "      <td>0.0463</td>\n",
       "      <td>0.03990</td>\n",
       "      <td>0.000000</td>\n",
       "      <td>0.3740</td>\n",
       "      <td>0.687</td>\n",
       "      <td>121.985</td>\n",
       "      <td>192507</td>\n",
       "    </tr>\n",
       "    <tr>\n",
       "      <th>13</th>\n",
       "      <td>3eLdNmnRWr9gIyBcqTSSti</td>\n",
       "      <td>SOS - Laidback Luke Tribute Remix / Radio Edit</td>\n",
       "      <td>Avicii</td>\n",
       "      <td>68</td>\n",
       "      <td>7Al4TIo0c5twNLfdOh1y1u</td>\n",
       "      <td>SOS (Laidback Luke Tribute Remix)</td>\n",
       "      <td>2019-05-17</td>\n",
       "      <td>Pop Remix</td>\n",
       "      <td>37i9dQZF1DXcZDD7cfEKhW</td>\n",
       "      <td>pop</td>\n",
       "      <td>...</td>\n",
       "      <td>5</td>\n",
       "      <td>-4.451</td>\n",
       "      <td>0</td>\n",
       "      <td>0.0625</td>\n",
       "      <td>0.01110</td>\n",
       "      <td>0.000000</td>\n",
       "      <td>0.3390</td>\n",
       "      <td>0.678</td>\n",
       "      <td>123.919</td>\n",
       "      <td>164516</td>\n",
       "    </tr>\n",
       "    <tr>\n",
       "      <th>14</th>\n",
       "      <td>55nMnifaQWKe3f9cbwOXwx</td>\n",
       "      <td>Summer Days (feat. Macklemore &amp; Patrick Stump ...</td>\n",
       "      <td>Martin Garrix</td>\n",
       "      <td>63</td>\n",
       "      <td>2vx3BtBMn8Ed3ygEg1OT2t</td>\n",
       "      <td>Summer Days (feat. Macklemore &amp; Patrick Stump ...</td>\n",
       "      <td>2019-07-12</td>\n",
       "      <td>Pop Remix</td>\n",
       "      <td>37i9dQZF1DXcZDD7cfEKhW</td>\n",
       "      <td>pop</td>\n",
       "      <td>...</td>\n",
       "      <td>5</td>\n",
       "      <td>-4.446</td>\n",
       "      <td>0</td>\n",
       "      <td>0.0594</td>\n",
       "      <td>0.00733</td>\n",
       "      <td>0.001830</td>\n",
       "      <td>0.0729</td>\n",
       "      <td>0.238</td>\n",
       "      <td>126.070</td>\n",
       "      <td>255238</td>\n",
       "    </tr>\n",
       "    <tr>\n",
       "      <th>15</th>\n",
       "      <td>1EJgymgJHcjSOGSHcYaxvW</td>\n",
       "      <td>South of the Border (feat. Camila Cabello &amp; Ca...</td>\n",
       "      <td>Ed Sheeran</td>\n",
       "      <td>66</td>\n",
       "      <td>1imXAvLuowvPYIsFMYUPY0</td>\n",
       "      <td>South of the Border (feat. Camila Cabello &amp; Ca...</td>\n",
       "      <td>2019-12-11</td>\n",
       "      <td>Pop Remix</td>\n",
       "      <td>37i9dQZF1DXcZDD7cfEKhW</td>\n",
       "      <td>pop</td>\n",
       "      <td>...</td>\n",
       "      <td>0</td>\n",
       "      <td>-4.603</td>\n",
       "      <td>1</td>\n",
       "      <td>0.0896</td>\n",
       "      <td>0.13000</td>\n",
       "      <td>0.000005</td>\n",
       "      <td>0.3650</td>\n",
       "      <td>0.722</td>\n",
       "      <td>125.028</td>\n",
       "      <td>188230</td>\n",
       "    </tr>\n",
       "    <tr>\n",
       "      <th>16</th>\n",
       "      <td>5WaXMQMlQpq8pwIdaFP43L</td>\n",
       "      <td>All My Friends - Eden Prince Remix</td>\n",
       "      <td>AJ Mitchell</td>\n",
       "      <td>60</td>\n",
       "      <td>4lXBBbiEgwTzcfAkqdXJV1</td>\n",
       "      <td>All My Friends (Eden Prince Remix)</td>\n",
       "      <td>2019-05-03</td>\n",
       "      <td>Pop Remix</td>\n",
       "      <td>37i9dQZF1DXcZDD7cfEKhW</td>\n",
       "      <td>pop</td>\n",
       "      <td>...</td>\n",
       "      <td>1</td>\n",
       "      <td>-4.322</td>\n",
       "      <td>0</td>\n",
       "      <td>0.0948</td>\n",
       "      <td>0.07020</td>\n",
       "      <td>0.000000</td>\n",
       "      <td>0.4270</td>\n",
       "      <td>0.368</td>\n",
       "      <td>118.051</td>\n",
       "      <td>173548</td>\n",
       "    </tr>\n",
       "    <tr>\n",
       "      <th>17</th>\n",
       "      <td>3TjLsDgL0bTbSQIF6M5Ki8</td>\n",
       "      <td>Say My Name (feat. Bebe Rexha &amp; J Balvin) - Lu...</td>\n",
       "      <td>David Guetta</td>\n",
       "      <td>65</td>\n",
       "      <td>19z3vpbBT09lZ54neDfuFL</td>\n",
       "      <td>Say My Name (feat. Bebe Rexha &amp; J Balvin) [Luc...</td>\n",
       "      <td>2018-12-28</td>\n",
       "      <td>Pop Remix</td>\n",
       "      <td>37i9dQZF1DXcZDD7cfEKhW</td>\n",
       "      <td>pop</td>\n",
       "      <td>...</td>\n",
       "      <td>10</td>\n",
       "      <td>-5.289</td>\n",
       "      <td>0</td>\n",
       "      <td>0.1650</td>\n",
       "      <td>0.03950</td>\n",
       "      <td>0.000000</td>\n",
       "      <td>0.1740</td>\n",
       "      <td>0.516</td>\n",
       "      <td>120.002</td>\n",
       "      <td>189375</td>\n",
       "    </tr>\n",
       "    <tr>\n",
       "      <th>18</th>\n",
       "      <td>0GfS3y8Jd7SHWd9R51s7Fo</td>\n",
       "      <td>Dancing With A Stranger (With Normani) - Cheat...</td>\n",
       "      <td>Sam Smith</td>\n",
       "      <td>69</td>\n",
       "      <td>2LDzwN4iZ4qbSA32E9CG4Q</td>\n",
       "      <td>Dancing With A Stranger (With Normani) [Cheat ...</td>\n",
       "      <td>2019-03-08</td>\n",
       "      <td>Pop Remix</td>\n",
       "      <td>37i9dQZF1DXcZDD7cfEKhW</td>\n",
       "      <td>pop</td>\n",
       "      <td>...</td>\n",
       "      <td>1</td>\n",
       "      <td>-6.722</td>\n",
       "      <td>1</td>\n",
       "      <td>0.0542</td>\n",
       "      <td>0.10300</td>\n",
       "      <td>0.003600</td>\n",
       "      <td>0.1380</td>\n",
       "      <td>0.324</td>\n",
       "      <td>111.961</td>\n",
       "      <td>159404</td>\n",
       "    </tr>\n",
       "    <tr>\n",
       "      <th>19</th>\n",
       "      <td>2v3DuCVBbopteJqdM7aKQK</td>\n",
       "      <td>Let It Be Me - Sondr Remix</td>\n",
       "      <td>Steve Aoki</td>\n",
       "      <td>35</td>\n",
       "      <td>097kyycr5ZuLS2cPwwUHwt</td>\n",
       "      <td>Let It Be Me (Remixes)</td>\n",
       "      <td>2019-10-18</td>\n",
       "      <td>Pop Remix</td>\n",
       "      <td>37i9dQZF1DXcZDD7cfEKhW</td>\n",
       "      <td>pop</td>\n",
       "      <td>...</td>\n",
       "      <td>7</td>\n",
       "      <td>-5.466</td>\n",
       "      <td>1</td>\n",
       "      <td>0.0934</td>\n",
       "      <td>0.00791</td>\n",
       "      <td>0.000441</td>\n",
       "      <td>0.1310</td>\n",
       "      <td>0.232</td>\n",
       "      <td>122.676</td>\n",
       "      <td>185366</td>\n",
       "    </tr>\n",
       "  </tbody>\n",
       "</table>\n",
       "<p>20 rows × 23 columns</p>\n",
       "</div>"
      ],
      "text/plain": [
       "                  track_id                                         track_name  \\\n",
       "0   6f807x0ima9a1j3VPbc7VN  I Don't Care (with Justin Bieber) - Loud Luxur...   \n",
       "1   0r7CVbZTWZgbTCYdfa2P31                    Memories - Dillon Francis Remix   \n",
       "2   1z1Hg7Vb0AhHDiEmnDE79l                    All the Time - Don Diablo Remix   \n",
       "3   75FpbthrwQmzHlBJLuGdC7                  Call You Mine - Keanu Silva Remix   \n",
       "4   1e8PAfcKUYoKkxPhrHqw4x            Someone You Loved - Future Humans Remix   \n",
       "5   7fvUMiyapMsRRxr07cU8Ef  Beautiful People (feat. Khalid) - Jack Wins Remix   \n",
       "6   2OAylPUDDfwRGfe0lYqlCQ                    Never Really Over - R3HAB Remix   \n",
       "7   6b1RNvAcJjQH73eZO4BLAB           Post Malone (feat. RANI) - GATTÜSO Remix   \n",
       "8   7bF6tCO3gFb8INrEDcjNT5             Tough Love - Tiësto Remix / Radio Edit   \n",
       "9   1IXGILkPm0tOCNeq00kCPa                If I Can't Have You - Gryffin Remix   \n",
       "10  3eFJI470ALf1EYjywPRsJy  Cross Me (feat. Chance the Rapper & PnB Rock) ...   \n",
       "11  3iJeF2izF1QcpCgUc97BLl                              Hate Me - R3HAB Remix   \n",
       "12  6e0CvGZf7CouOpYF8toXHC                                         Body On My   \n",
       "13  3eLdNmnRWr9gIyBcqTSSti     SOS - Laidback Luke Tribute Remix / Radio Edit   \n",
       "14  55nMnifaQWKe3f9cbwOXwx  Summer Days (feat. Macklemore & Patrick Stump ...   \n",
       "15  1EJgymgJHcjSOGSHcYaxvW  South of the Border (feat. Camila Cabello & Ca...   \n",
       "16  5WaXMQMlQpq8pwIdaFP43L                 All My Friends - Eden Prince Remix   \n",
       "17  3TjLsDgL0bTbSQIF6M5Ki8  Say My Name (feat. Bebe Rexha & J Balvin) - Lu...   \n",
       "18  0GfS3y8Jd7SHWd9R51s7Fo  Dancing With A Stranger (With Normani) - Cheat...   \n",
       "19  2v3DuCVBbopteJqdM7aKQK                         Let It Be Me - Sondr Remix   \n",
       "\n",
       "        track_artist  track_popularity          track_album_id  \\\n",
       "0         Ed Sheeran                66  2oCs0DGTsRO98Gh5ZSl2Cx   \n",
       "1           Maroon 5                67  63rPSO264uRjW1X5E6cWv6   \n",
       "2       Zara Larsson                70  1HoSmj2eLcsrR0vE9gThr4   \n",
       "3   The Chainsmokers                60  1nqYsOef1yKKuGOVchbsk6   \n",
       "4      Lewis Capaldi                69  7m7vv9wlQ4i0LFuJiE2zsQ   \n",
       "5         Ed Sheeran                67  2yiy9cd2QktrNvWC2EUi0k   \n",
       "6         Katy Perry                62  7INHYSeusaFlyrHSNxm8qH   \n",
       "7          Sam Feldt                69  6703SRPsLkS4bPtMFFJes1   \n",
       "8             Avicii                68  7CvAfGvq4RlIwEbT9o8Iav   \n",
       "9       Shawn Mendes                67  4QxzbfSsVryEQwvPFEV5Iu   \n",
       "10        Ed Sheeran                58  49bXZtlI5kQSqQMSCnSaWO   \n",
       "11    Ellie Goulding                67  6e6RVFWdZaoTiLAZOCMnps   \n",
       "12       Loud Luxury                67  2R66I0nzp3NnuUlzIGWQ5P   \n",
       "13            Avicii                68  7Al4TIo0c5twNLfdOh1y1u   \n",
       "14     Martin Garrix                63  2vx3BtBMn8Ed3ygEg1OT2t   \n",
       "15        Ed Sheeran                66  1imXAvLuowvPYIsFMYUPY0   \n",
       "16       AJ Mitchell                60  4lXBBbiEgwTzcfAkqdXJV1   \n",
       "17      David Guetta                65  19z3vpbBT09lZ54neDfuFL   \n",
       "18         Sam Smith                69  2LDzwN4iZ4qbSA32E9CG4Q   \n",
       "19        Steve Aoki                35  097kyycr5ZuLS2cPwwUHwt   \n",
       "\n",
       "                                     track_album_name  \\\n",
       "0   I Don't Care (with Justin Bieber) [Loud Luxury...   \n",
       "1                     Memories (Dillon Francis Remix)   \n",
       "2                     All the Time (Don Diablo Remix)   \n",
       "3                         Call You Mine - The Remixes   \n",
       "4             Someone You Loved (Future Humans Remix)   \n",
       "5   Beautiful People (feat. Khalid) [Jack Wins Remix]   \n",
       "6                     Never Really Over (R3HAB Remix)   \n",
       "7            Post Malone (feat. RANI) [GATTÜSO Remix]   \n",
       "8                           Tough Love (Tiësto Remix)   \n",
       "9                 If I Can't Have You (Gryffin Remix)   \n",
       "10  Cross Me (feat. Chance the Rapper & PnB Rock) ...   \n",
       "11                              Hate Me (R3HAB Remix)   \n",
       "12                                         Body On My   \n",
       "13                  SOS (Laidback Luke Tribute Remix)   \n",
       "14  Summer Days (feat. Macklemore & Patrick Stump ...   \n",
       "15  South of the Border (feat. Camila Cabello & Ca...   \n",
       "16                 All My Friends (Eden Prince Remix)   \n",
       "17  Say My Name (feat. Bebe Rexha & J Balvin) [Luc...   \n",
       "18  Dancing With A Stranger (With Normani) [Cheat ...   \n",
       "19                             Let It Be Me (Remixes)   \n",
       "\n",
       "   track_album_release_date playlist_name             playlist_id  \\\n",
       "0                2019-06-14     Pop Remix  37i9dQZF1DXcZDD7cfEKhW   \n",
       "1                2019-12-13     Pop Remix  37i9dQZF1DXcZDD7cfEKhW   \n",
       "2                2019-07-05     Pop Remix  37i9dQZF1DXcZDD7cfEKhW   \n",
       "3                2019-07-19     Pop Remix  37i9dQZF1DXcZDD7cfEKhW   \n",
       "4                2019-03-05     Pop Remix  37i9dQZF1DXcZDD7cfEKhW   \n",
       "5                2019-07-11     Pop Remix  37i9dQZF1DXcZDD7cfEKhW   \n",
       "6                2019-07-26     Pop Remix  37i9dQZF1DXcZDD7cfEKhW   \n",
       "7                2019-08-29     Pop Remix  37i9dQZF1DXcZDD7cfEKhW   \n",
       "8                2019-06-14     Pop Remix  37i9dQZF1DXcZDD7cfEKhW   \n",
       "9                2019-06-20     Pop Remix  37i9dQZF1DXcZDD7cfEKhW   \n",
       "10               2019-06-21     Pop Remix  37i9dQZF1DXcZDD7cfEKhW   \n",
       "11               2019-08-16     Pop Remix  37i9dQZF1DXcZDD7cfEKhW   \n",
       "12               2019-03-29     Pop Remix  37i9dQZF1DXcZDD7cfEKhW   \n",
       "13               2019-05-17     Pop Remix  37i9dQZF1DXcZDD7cfEKhW   \n",
       "14               2019-07-12     Pop Remix  37i9dQZF1DXcZDD7cfEKhW   \n",
       "15               2019-12-11     Pop Remix  37i9dQZF1DXcZDD7cfEKhW   \n",
       "16               2019-05-03     Pop Remix  37i9dQZF1DXcZDD7cfEKhW   \n",
       "17               2018-12-28     Pop Remix  37i9dQZF1DXcZDD7cfEKhW   \n",
       "18               2019-03-08     Pop Remix  37i9dQZF1DXcZDD7cfEKhW   \n",
       "19               2019-10-18     Pop Remix  37i9dQZF1DXcZDD7cfEKhW   \n",
       "\n",
       "   playlist_genre  ... key  loudness  mode  speechiness  acousticness  \\\n",
       "0             pop  ...   6    -2.634     1       0.0583       0.10200   \n",
       "1             pop  ...  11    -4.969     1       0.0373       0.07240   \n",
       "2             pop  ...   1    -3.432     0       0.0742       0.07940   \n",
       "3             pop  ...   7    -3.778     1       0.1020       0.02870   \n",
       "4             pop  ...   1    -4.672     1       0.0359       0.08030   \n",
       "5             pop  ...   8    -5.385     1       0.1270       0.07990   \n",
       "6             pop  ...   5    -4.788     0       0.0623       0.18700   \n",
       "7             pop  ...   4    -2.419     0       0.0434       0.03350   \n",
       "8             pop  ...   8    -3.562     1       0.0565       0.02490   \n",
       "9             pop  ...   2    -4.552     1       0.0320       0.05670   \n",
       "10            pop  ...   6    -6.500     1       0.1810       0.14600   \n",
       "11            pop  ...   8    -4.918     1       0.0554       0.14800   \n",
       "12            pop  ...   1    -4.675     1       0.0463       0.03990   \n",
       "13            pop  ...   5    -4.451     0       0.0625       0.01110   \n",
       "14            pop  ...   5    -4.446     0       0.0594       0.00733   \n",
       "15            pop  ...   0    -4.603     1       0.0896       0.13000   \n",
       "16            pop  ...   1    -4.322     0       0.0948       0.07020   \n",
       "17            pop  ...  10    -5.289     0       0.1650       0.03950   \n",
       "18            pop  ...   1    -6.722     1       0.0542       0.10300   \n",
       "19            pop  ...   7    -5.466     1       0.0934       0.00791   \n",
       "\n",
       "    instrumentalness  liveness  valence    tempo  duration_ms  \n",
       "0           0.000000    0.0653    0.518  122.036       194754  \n",
       "1           0.004210    0.3570    0.693   99.972       162600  \n",
       "2           0.000023    0.1100    0.613  124.008       176616  \n",
       "3           0.000009    0.2040    0.277  121.956       169093  \n",
       "4           0.000000    0.0833    0.725  123.976       189052  \n",
       "5           0.000000    0.1430    0.585  124.982       163049  \n",
       "6           0.000000    0.1760    0.152  112.648       187675  \n",
       "7           0.000005    0.1110    0.367  127.936       207619  \n",
       "8           0.000004    0.6370    0.366  127.015       193187  \n",
       "9           0.000000    0.0919    0.590  124.957       253040  \n",
       "10          0.000005    0.1240    0.752  121.984       207894  \n",
       "11          0.000000    0.1330    0.329  123.125       203733  \n",
       "12          0.000000    0.3740    0.687  121.985       192507  \n",
       "13          0.000000    0.3390    0.678  123.919       164516  \n",
       "14          0.001830    0.0729    0.238  126.070       255238  \n",
       "15          0.000005    0.3650    0.722  125.028       188230  \n",
       "16          0.000000    0.4270    0.368  118.051       173548  \n",
       "17          0.000000    0.1740    0.516  120.002       189375  \n",
       "18          0.003600    0.1380    0.324  111.961       159404  \n",
       "19          0.000441    0.1310    0.232  122.676       185366  \n",
       "\n",
       "[20 rows x 23 columns]"
      ]
     },
     "execution_count": 30,
     "metadata": {},
     "output_type": "execute_result"
    }
   ],
   "source": [
    "data.head(20)"
   ]
  },
  {
   "cell_type": "code",
   "execution_count": 31,
   "id": "3f694521",
   "metadata": {
    "colab": {
     "base_uri": "https://localhost:8080/"
    },
    "id": "3f694521",
    "outputId": "81844f2a-6644-46ef-f4c7-005d0fce9992"
   },
   "outputs": [
    {
     "data": {
      "text/plain": [
       "Index(['track_id', 'track_name', 'track_artist', 'track_popularity',\n",
       "       'track_album_id', 'track_album_name', 'track_album_release_date',\n",
       "       'playlist_name', 'playlist_id', 'playlist_genre', 'playlist_subgenre',\n",
       "       'danceability', 'energy', 'key', 'loudness', 'mode', 'speechiness',\n",
       "       'acousticness', 'instrumentalness', 'liveness', 'valence', 'tempo',\n",
       "       'duration_ms'],\n",
       "      dtype='object')"
      ]
     },
     "execution_count": 31,
     "metadata": {},
     "output_type": "execute_result"
    }
   ],
   "source": [
    "data.columns"
   ]
  },
  {
   "cell_type": "code",
   "execution_count": 32,
   "id": "8099a5b2",
   "metadata": {
    "colab": {
     "base_uri": "https://localhost:8080/"
    },
    "id": "8099a5b2",
    "outputId": "7fb596cf-f163-47b5-d041-b9e582884ee3"
   },
   "outputs": [
    {
     "name": "stdout",
     "output_type": "stream",
     "text": [
      "track_id                    0\n",
      "track_name                  5\n",
      "track_artist                5\n",
      "track_popularity            0\n",
      "track_album_id              0\n",
      "track_album_name            5\n",
      "track_album_release_date    0\n",
      "playlist_name               0\n",
      "playlist_id                 0\n",
      "playlist_genre              0\n",
      "playlist_subgenre           0\n",
      "danceability                0\n",
      "energy                      0\n",
      "key                         0\n",
      "loudness                    0\n",
      "mode                        0\n",
      "speechiness                 0\n",
      "acousticness                0\n",
      "instrumentalness            0\n",
      "liveness                    0\n",
      "valence                     0\n",
      "tempo                       0\n",
      "duration_ms                 0\n",
      "dtype: int64\n"
     ]
    }
   ],
   "source": [
    "null = data.isnull().sum()\n",
    "print(null)"
   ]
  },
  {
   "cell_type": "code",
   "execution_count": 33,
   "id": "6d810085",
   "metadata": {
    "id": "6d810085"
   },
   "outputs": [],
   "source": [
    "data= data.dropna()"
   ]
  },
  {
   "cell_type": "code",
   "execution_count": 34,
   "id": "e0f840fd",
   "metadata": {
    "colab": {
     "base_uri": "https://localhost:8080/"
    },
    "id": "e0f840fd",
    "outputId": "b6ba27e3-6559-4dd6-fd63-2cee10eedbb9"
   },
   "outputs": [
    {
     "name": "stdout",
     "output_type": "stream",
     "text": [
      "0\n"
     ]
    }
   ],
   "source": [
    "duplicated = data.duplicated().sum()\n",
    "print(duplicated)"
   ]
  },
  {
   "cell_type": "code",
   "execution_count": 35,
   "id": "81f55389",
   "metadata": {
    "colab": {
     "base_uri": "https://localhost:8080/"
    },
    "id": "81f55389",
    "outputId": "abb6d6ac-b5ac-4aa8-8714-653e208b1d3a"
   },
   "outputs": [
    {
     "data": {
      "text/plain": [
       "32828"
      ]
     },
     "execution_count": 35,
     "metadata": {},
     "output_type": "execute_result"
    }
   ],
   "source": [
    "len(data)"
   ]
  },
  {
   "cell_type": "code",
   "execution_count": 36,
   "id": "fd79ab1b",
   "metadata": {
    "colab": {
     "base_uri": "https://localhost:8080/",
     "height": 429
    },
    "id": "fd79ab1b",
    "outputId": "71a9e551-f023-4a3c-a61c-ad76525df204"
   },
   "outputs": [
    {
     "data": {
      "image/png": "[encoded data removed]",
      "text/plain": [
       "<Figure size 432x288 with 1 Axes>"
      ]
     },
     "metadata": {},
     "output_type": "display_data"
    }
   ],
   "source": [
    "import matplotlib.pyplot as plt\n",
    "occurence_genre = data['playlist_genre'].value_counts()\n",
    "pourcentage_genre = (occurence_genre / occurence_genre.sum()) * 100\n",
    "fig, ax = plt.subplots()\n",
    "ax.pie(pourcentage_genre, labels=pourcentage_genre.index, autopct='%1.1f%%', startangle=90)\n",
    "plt.title('Répartition des genres des playlist')\n",
    "plt.show()"
   ]
  },
  {
   "cell_type": "code",
   "execution_count": 37,
   "id": "f0d519ad",
   "metadata": {
    "colab": {
     "base_uri": "https://localhost:8080/",
     "height": 637
    },
    "id": "f0d519ad",
    "outputId": "6a4c94fb-380f-4726-9e57-7d01c8997ff4"
   },
   "outputs": [
    {
     "data": {
      "image/png": "[encoded data removed]",
      "text/plain": [
       "<Figure size 432x288 with 1 Axes>"
      ]
     },
     "metadata": {
      "needs_background": "light"
     },
     "output_type": "display_data"
    }
   ],
   "source": [
    "occurrence_subgenre = data['playlist_subgenre'].value_counts()\n",
    "\n",
    "# Plotting\n",
    "fig, ax = plt.subplots()\n",
    "occurrence_subgenre.plot(kind='bar', ax=ax, color='brown')\n",
    "\n",
    "# Ajouter des étiquettes et un titre\n",
    "ax.set_xlabel('Sous-genre de playlist')\n",
    "ax.set_ylabel('Nombre d\\'occurrences')\n",
    "plt.title('Répartition des sous-genres de playlist')\n",
    "\n",
    "# Afficher le graphique\n",
    "plt.show()"
   ]
  },
  {
   "cell_type": "code",
   "execution_count": 38,
   "id": "b947c267",
   "metadata": {
    "colab": {
     "base_uri": "https://localhost:8080/"
    },
    "id": "b947c267",
    "outputId": "3b75b26e-ada7-4772-cb80-c3cba369fbb7"
   },
   "outputs": [
    {
     "name": "stdout",
     "output_type": "stream",
     "text": [
      "Matrice de Corrélation :\n",
      "                genre_code  subgenre_code\n",
      "genre_code       1.000000      -0.123818\n",
      "subgenre_code   -0.123818       1.000000\n"
     ]
    }
   ],
   "source": [
    "# Convertir les catégories en valeurs numériques\n",
    "data['genre_code'] = pd.Categorical(data['playlist_subgenre']).codes\n",
    "data['subgenre_code'] = pd.Categorical(data['playlist_genre']).codes\n",
    "\n",
    "# Créer une matrice de corrélation\n",
    "correlation_matrix = data[['genre_code', 'subgenre_code']].corr()\n",
    "\n",
    "# Afficher la matrice de corrélation\n",
    "print(\"Matrice de Corrélation :\\n\", correlation_matrix)"
   ]
  },
  {
   "cell_type": "code",
   "execution_count": 39,
   "id": "af511dc9",
   "metadata": {
    "colab": {
     "base_uri": "https://localhost:8080/"
    },
    "id": "af511dc9",
    "outputId": "2d8b2a0f-5bcf-4b25-b550-65a2b5503739"
   },
   "outputs": [
    {
     "name": "stdout",
     "output_type": "stream",
     "text": [
      "  playlist_genre                                  playlist_subgenre\n",
      "0            edm  electro house, electro house, electro house, e...\n",
      "1          latin  tropical, tropical, tropical, tropical, tropic...\n",
      "2            pop  dance pop, dance pop, dance pop, dance pop, da...\n",
      "3            r&b  urban contemporary, urban contemporary, urban ...\n",
      "4            rap  hip hop, hip hop, hip hop, hip hop, hip hop, h...\n",
      "5           rock  album rock, album rock, album rock, album rock...\n"
     ]
    }
   ],
   "source": [
    "genre_subgenres = data.groupby('playlist_genre')['playlist_subgenre'].apply(lambda x: ', '.join(x)).reset_index()\n",
    "\n",
    "# Renommer la colonne résultante\n",
    "genre_subgenres.columns = ['playlist_genre', 'playlist_subgenre']\n",
    "\n",
    "# Afficher le DataFrame résultant\n",
    "print(genre_subgenres)"
   ]
  },
  {
   "cell_type": "code",
   "execution_count": null,
   "id": "0abe94c2",
   "metadata": {
    "id": "0abe94c2"
   },
   "outputs": [],
   "source": []
  },
  {
   "cell_type": "code",
   "execution_count": 40,
   "id": "c219e841",
   "metadata": {
    "colab": {
     "base_uri": "https://localhost:8080/",
     "height": 486
    },
    "id": "c219e841",
    "outputId": "eda3efa7-acd0-4f61-a9d6-9b8282ae57e9"
   },
   "outputs": [
    {
     "data": {
      "image/png": "[encoded data removed]",
      "text/plain": [
       "<Figure size 432x288 with 1 Axes>"
      ]
     },
     "metadata": {
      "needs_background": "light"
     },
     "output_type": "display_data"
    }
   ],
   "source": [
    "import matplotlib.pyplot as plt\n",
    "\n",
    "# Supposons que vous avez déjà le DataFrame data avec les colonnes 'playlist_genre' et 'playlist_subgenre'\n",
    "\n",
    "# Sélectionner un genre spécifique (par exemple, 'rock')\n",
    "genre_specifique = 'pop'\n",
    "data_genre_specifique = data[data['playlist_genre'] == genre_specifique].loc[:, ['playlist_subgenre']]\n",
    "\n",
    "# Calculer l'occurrence des sous-genres pour le genre spécifique\n",
    "occurrence_subgenre = data_genre_specifique['playlist_subgenre'].value_counts()\n",
    "\n",
    "# Tracer le barplot\n",
    "plt.figure(figsize=(6,4))\n",
    "occurrence_subgenre.plot(kind='bar', color='red')\n",
    "\n",
    "# Personnaliser le barplot\n",
    "plt.title(f'Répartition des sous-genres pour le genre \"{genre_specifique}\"')\n",
    "plt.xlabel('Sous-genre')\n",
    "plt.ylabel('Occurrence')\n",
    "plt.xticks(rotation=45, ha='right')\n",
    "\n",
    "# Afficher le barplot\n",
    "plt.show()\n"
   ]
  },
  {
   "cell_type": "code",
   "execution_count": 41,
   "id": "DStdKscC0UQq",
   "metadata": {
    "colab": {
     "base_uri": "https://localhost:8080/",
     "height": 533
    },
    "id": "DStdKscC0UQq",
    "outputId": "0dad0e5b-255d-4a8b-e74e-1d324f9e2a14"
   },
   "outputs": [
    {
     "data": {
      "image/png": "[encoded data removed]",
      "text/plain": [
       "<Figure size 432x288 with 1 Axes>"
      ]
     },
     "metadata": {
      "needs_background": "light"
     },
     "output_type": "display_data"
    }
   ],
   "source": [
    "import matplotlib.pyplot as plt\n",
    "\n",
    "# Supposons que vous avez déjà le DataFrame data avec les colonnes 'playlist_genre' et 'playlist_subgenre'\n",
    "\n",
    "# Sélectionner un genre spécifique (par exemple, 'rock')\n",
    "genre_specifique = 'edm'\n",
    "data_genre_specifique = data[data['playlist_genre'] == genre_specifique].loc[:, ['playlist_subgenre']]\n",
    "\n",
    "# Calculer l'occurrence des sous-genres pour le genre spécifique\n",
    "occurrence_subgenre = data_genre_specifique['playlist_subgenre'].value_counts()\n",
    "\n",
    "# Tracer le barplot\n",
    "plt.figure(figsize=(6,4))\n",
    "occurrence_subgenre.plot(kind='bar', color='grey')\n",
    "\n",
    "# Personnaliser le barplot\n",
    "plt.title(f'Répartition des sous-genres pour le genre \"{genre_specifique}\"')\n",
    "plt.xlabel('Sous-genre')\n",
    "plt.ylabel('Occurrence')\n",
    "plt.xticks(rotation=45, ha='right')\n",
    "\n",
    "# Afficher le barplot\n",
    "plt.show()\n"
   ]
  },
  {
   "cell_type": "code",
   "execution_count": 42,
   "id": "_xhj68OX0Zfg",
   "metadata": {
    "colab": {
     "base_uri": "https://localhost:8080/",
     "height": 508
    },
    "id": "_xhj68OX0Zfg",
    "outputId": "a29810bf-33bb-43aa-dde5-7b77a9976a36"
   },
   "outputs": [
    {
     "data": {
      "image/png": "[encoded data removed]",
      "text/plain": [
       "<Figure size 432x288 with 1 Axes>"
      ]
     },
     "metadata": {
      "needs_background": "light"
     },
     "output_type": "display_data"
    }
   ],
   "source": [
    "import matplotlib.pyplot as plt\n",
    "\n",
    "# Supposons que vous avez déjà le DataFrame data avec les colonnes 'playlist_genre' et 'playlist_subgenre'\n",
    "\n",
    "# Sélectionner un genre spécifique (par exemple, 'rock')\n",
    "genre_specifique = 'r&b'\n",
    "data_genre_specifique = data[data['playlist_genre'] == genre_specifique].loc[:, ['playlist_subgenre']]\n",
    "\n",
    "# Calculer l'occurrence des sous-genres pour le genre spécifique\n",
    "occurrence_subgenre = data_genre_specifique['playlist_subgenre'].value_counts()\n",
    "\n",
    "# Tracer le barplot\n",
    "plt.figure(figsize=(6, 4))\n",
    "occurrence_subgenre.plot(kind='bar', color='skyblue')\n",
    "\n",
    "# Personnaliser le barplot\n",
    "plt.title(f'Répartition des sous-genres pour le genre \"{genre_specifique}\"')\n",
    "plt.xlabel('Sous-genre')\n",
    "plt.ylabel('Occurrence')\n",
    "plt.xticks(rotation=45, ha='right')\n",
    "\n",
    "# Afficher le barplot\n",
    "plt.show()"
   ]
  },
  {
   "cell_type": "code",
   "execution_count": 43,
   "id": "a6b41b7a",
   "metadata": {
    "colab": {
     "base_uri": "https://localhost:8080/",
     "height": 468
    },
    "id": "a6b41b7a",
    "outputId": "95e397a6-4c20-4396-e0a7-40f89c41aa58"
   },
   "outputs": [
    {
     "data": {
      "image/png": "[encoded data removed]",
      "text/plain": [
       "<Figure size 432x288 with 1 Axes>"
      ]
     },
     "metadata": {
      "needs_background": "light"
     },
     "output_type": "display_data"
    }
   ],
   "source": [
    "import matplotlib.pyplot as plt\n",
    "\n",
    "# Supposons que vous avez déjà le DataFrame data avec les colonnes 'playlist_genre' et 'playlist_subgenre'\n",
    "\n",
    "# Sélectionner un genre spécifique (par exemple, 'rock')\n",
    "genre_specifique = 'latin'\n",
    "data_genre_specifique = data[data['playlist_genre'] == genre_specifique].loc[:, ['playlist_subgenre']]\n",
    "\n",
    "# Calculer l'occurrence des sous-genres pour le genre spécifique\n",
    "occurrence_subgenre = data_genre_specifique['playlist_subgenre'].value_counts()\n",
    "\n",
    "# Tracer le barplot\n",
    "plt.figure(figsize=(6,4))\n",
    "occurrence_subgenre.plot(kind='bar', color='black')\n",
    "\n",
    "# Personnaliser le barplot\n",
    "plt.title(f'Répartition des sous-genres pour le genre \"{genre_specifique}\"')\n",
    "plt.xlabel('Sous-genre')\n",
    "plt.ylabel('Occurrence')\n",
    "plt.xticks(rotation=45, ha='right')\n",
    "\n",
    "# Afficher le barplot\n",
    "plt.show()"
   ]
  },
  {
   "cell_type": "code",
   "execution_count": 44,
   "id": "h-prJy140JcT",
   "metadata": {
    "colab": {
     "base_uri": "https://localhost:8080/",
     "height": 490
    },
    "id": "h-prJy140JcT",
    "outputId": "209fc88b-0df6-4683-ac30-091e90075df2"
   },
   "outputs": [
    {
     "data": {
      "image/png": "[encoded data removed]",
      "text/plain": [
       "<Figure size 432x288 with 1 Axes>"
      ]
     },
     "metadata": {
      "needs_background": "light"
     },
     "output_type": "display_data"
    }
   ],
   "source": [
    "import matplotlib.pyplot as plt\n",
    "\n",
    "# Supposons que vous avez déjà le DataFrame data avec les colonnes 'playlist_genre' et 'playlist_subgenre'\n",
    "\n",
    "# Sélectionner un genre spécifique (par exemple, 'rock')\n",
    "genre_specifique = 'rock'\n",
    "data_genre_specifique = data[data['playlist_genre'] == genre_specifique].loc[:, ['playlist_subgenre']]\n",
    "\n",
    "# Calculer l'occurrence des sous-genres pour le genre spécifique\n",
    "occurrence_subgenre = data_genre_specifique['playlist_subgenre'].value_counts()\n",
    "\n",
    "# Tracer le barplot\n",
    "plt.figure(figsize=(6,4))\n",
    "occurrence_subgenre.plot(kind='bar', color='pink')\n",
    "\n",
    "# Personnaliser le barplot\n",
    "plt.title(f'Répartition des sous-genres pour le genre \"{genre_specifique}\"')\n",
    "plt.xlabel('Sous-genre')\n",
    "plt.ylabel('Occurrence')\n",
    "plt.xticks(rotation=45, ha='right')\n",
    "\n",
    "# Afficher le barplot\n",
    "plt.show()"
   ]
  },
  {
   "cell_type": "code",
   "execution_count": 45,
   "id": "ROHnkVmf1m2W",
   "metadata": {
    "colab": {
     "base_uri": "https://localhost:8080/",
     "height": 490
    },
    "id": "ROHnkVmf1m2W",
    "outputId": "e86a9530-6b00-43f1-b393-01cbc27c4794"
   },
   "outputs": [
    {
     "data": {
      "image/png": "[encoded data removed]",
      "text/plain": [
       "<Figure size 432x288 with 1 Axes>"
      ]
     },
     "metadata": {
      "needs_background": "light"
     },
     "output_type": "display_data"
    }
   ],
   "source": [
    "import matplotlib.pyplot as plt\n",
    "\n",
    "# Supposons que vous avez déjà le DataFrame data avec les colonnes 'playlist_genre' et 'playlist_subgenre'\n",
    "\n",
    "# Sélectionner un genre spécifique (par exemple, 'rock')\n",
    "genre_specifique = 'rap'\n",
    "data_genre_specifique = data[data['playlist_genre'] == genre_specifique].loc[:, ['playlist_subgenre']]\n",
    "\n",
    "# Calculer l'occurrence des sous-genres pour le genre spécifique\n",
    "occurrence_subgenre = data_genre_specifique['playlist_subgenre'].value_counts()\n",
    "\n",
    "# Tracer le barplot\n",
    "plt.figure(figsize=(6, 4))\n",
    "occurrence_subgenre.plot(kind='bar', color='beige')\n",
    "\n",
    "# Personnaliser le barplot\n",
    "plt.title(f'Répartition des sous-genres pour le genre \"{genre_specifique}\"')\n",
    "plt.xlabel('Sous-genre')\n",
    "plt.ylabel('Occurrence')\n",
    "plt.xticks(rotation=45, ha='right')\n",
    "\n",
    "# Afficher le barplot\n",
    "plt.show()"
   ]
  },
  {
   "cell_type": "code",
   "execution_count": null,
   "id": "M0c1tC4211uW",
   "metadata": {
    "id": "M0c1tC4211uW"
   },
   "outputs": [],
   "source": []
  },
  {
   "cell_type": "code",
   "execution_count": null,
   "id": "hUsmXJVQ5TWx",
   "metadata": {
    "id": "hUsmXJVQ5TWx"
   },
   "outputs": [],
   "source": []
  },
  {
   "cell_type": "markdown",
   "id": "Zh1tcjdg5KBf",
   "metadata": {
    "id": "Zh1tcjdg5KBf"
   },
   "source": [
    "**accoustiness**\n",
    "### les sons purement acoustique (sans électricité)"
   ]
  },
  {
   "cell_type": "code",
   "execution_count": 48,
   "id": "hWBE0bCq5TwU",
   "metadata": {
    "colab": {
     "base_uri": "https://localhost:8080/"
    },
    "id": "hWBE0bCq5TwU",
    "outputId": "8425e829-35f6-45e1-ca46-0b33db0b75b6"
   },
   "outputs": [
    {
     "ename": "MemoryError",
     "evalue": "Unable to allocate 897. MiB for an array with shape (235259094,) and data type int32",
     "output_type": "error",
     "traceback": [
      "\u001b[1;31m---------------------------------------------------------------------------\u001b[0m",
      "\u001b[1;31mMemoryError\u001b[0m                               Traceback (most recent call last)",
      "\u001b[1;32m~\\AppData\\Local\\Temp/ipykernel_25588/1316115443.py\u001b[0m in \u001b[0;36m<module>\u001b[1;34m\u001b[0m\n\u001b[0;32m     12\u001b[0m \u001b[1;33m\u001b[0m\u001b[0m\n\u001b[0;32m     13\u001b[0m \u001b[1;31m# Calculate the cosine similarity between items\u001b[0m\u001b[1;33m\u001b[0m\u001b[1;33m\u001b[0m\u001b[0m\n\u001b[1;32m---> 14\u001b[1;33m \u001b[0mcosine_sim\u001b[0m \u001b[1;33m=\u001b[0m \u001b[0mlinear_kernel\u001b[0m\u001b[1;33m(\u001b[0m\u001b[0mtfidf_matrix\u001b[0m\u001b[1;33m,\u001b[0m \u001b[0mtfidf_matrix\u001b[0m\u001b[1;33m)\u001b[0m\u001b[1;33m\u001b[0m\u001b[1;33m\u001b[0m\u001b[0m\n\u001b[0m\u001b[0;32m     15\u001b[0m \u001b[1;33m\u001b[0m\u001b[0m\n\u001b[0;32m     16\u001b[0m \u001b[1;31m# Function to get recommendations based on item_id\u001b[0m\u001b[1;33m\u001b[0m\u001b[1;33m\u001b[0m\u001b[0m\n",
      "\u001b[1;32m~\\anaconda3\\lib\\site-packages\\sklearn\\metrics\\pairwise.py\u001b[0m in \u001b[0;36mlinear_kernel\u001b[1;34m(X, Y, dense_output)\u001b[0m\n\u001b[0;32m   1003\u001b[0m     \"\"\"\n\u001b[0;32m   1004\u001b[0m     \u001b[0mX\u001b[0m\u001b[1;33m,\u001b[0m \u001b[0mY\u001b[0m \u001b[1;33m=\u001b[0m \u001b[0mcheck_pairwise_arrays\u001b[0m\u001b[1;33m(\u001b[0m\u001b[0mX\u001b[0m\u001b[1;33m,\u001b[0m \u001b[0mY\u001b[0m\u001b[1;33m)\u001b[0m\u001b[1;33m\u001b[0m\u001b[1;33m\u001b[0m\u001b[0m\n\u001b[1;32m-> 1005\u001b[1;33m     \u001b[1;32mreturn\u001b[0m \u001b[0msafe_sparse_dot\u001b[0m\u001b[1;33m(\u001b[0m\u001b[0mX\u001b[0m\u001b[1;33m,\u001b[0m \u001b[0mY\u001b[0m\u001b[1;33m.\u001b[0m\u001b[0mT\u001b[0m\u001b[1;33m,\u001b[0m \u001b[0mdense_output\u001b[0m\u001b[1;33m=\u001b[0m\u001b[0mdense_output\u001b[0m\u001b[1;33m)\u001b[0m\u001b[1;33m\u001b[0m\u001b[1;33m\u001b[0m\u001b[0m\n\u001b[0m\u001b[0;32m   1006\u001b[0m \u001b[1;33m\u001b[0m\u001b[0m\n\u001b[0;32m   1007\u001b[0m \u001b[1;33m\u001b[0m\u001b[0m\n",
      "\u001b[1;32m~\\anaconda3\\lib\\site-packages\\sklearn\\utils\\validation.py\u001b[0m in \u001b[0;36minner_f\u001b[1;34m(*args, **kwargs)\u001b[0m\n\u001b[0;32m     61\u001b[0m             \u001b[0mextra_args\u001b[0m \u001b[1;33m=\u001b[0m \u001b[0mlen\u001b[0m\u001b[1;33m(\u001b[0m\u001b[0margs\u001b[0m\u001b[1;33m)\u001b[0m \u001b[1;33m-\u001b[0m \u001b[0mlen\u001b[0m\u001b[1;33m(\u001b[0m\u001b[0mall_args\u001b[0m\u001b[1;33m)\u001b[0m\u001b[1;33m\u001b[0m\u001b[1;33m\u001b[0m\u001b[0m\n\u001b[0;32m     62\u001b[0m             \u001b[1;32mif\u001b[0m \u001b[0mextra_args\u001b[0m \u001b[1;33m<=\u001b[0m \u001b[1;36m0\u001b[0m\u001b[1;33m:\u001b[0m\u001b[1;33m\u001b[0m\u001b[1;33m\u001b[0m\u001b[0m\n\u001b[1;32m---> 63\u001b[1;33m                 \u001b[1;32mreturn\u001b[0m \u001b[0mf\u001b[0m\u001b[1;33m(\u001b[0m\u001b[1;33m*\u001b[0m\u001b[0margs\u001b[0m\u001b[1;33m,\u001b[0m \u001b[1;33m**\u001b[0m\u001b[0mkwargs\u001b[0m\u001b[1;33m)\u001b[0m\u001b[1;33m\u001b[0m\u001b[1;33m\u001b[0m\u001b[0m\n\u001b[0m\u001b[0;32m     64\u001b[0m \u001b[1;33m\u001b[0m\u001b[0m\n\u001b[0;32m     65\u001b[0m             \u001b[1;31m# extra_args > 0\u001b[0m\u001b[1;33m\u001b[0m\u001b[1;33m\u001b[0m\u001b[0m\n",
      "\u001b[1;32m~\\anaconda3\\lib\\site-packages\\sklearn\\utils\\extmath.py\u001b[0m in \u001b[0;36msafe_sparse_dot\u001b[1;34m(a, b, dense_output)\u001b[0m\n\u001b[0;32m    150\u001b[0m             \u001b[0mret\u001b[0m \u001b[1;33m=\u001b[0m \u001b[0mnp\u001b[0m\u001b[1;33m.\u001b[0m\u001b[0mdot\u001b[0m\u001b[1;33m(\u001b[0m\u001b[0ma\u001b[0m\u001b[1;33m,\u001b[0m \u001b[0mb\u001b[0m\u001b[1;33m)\u001b[0m\u001b[1;33m\u001b[0m\u001b[1;33m\u001b[0m\u001b[0m\n\u001b[0;32m    151\u001b[0m     \u001b[1;32melse\u001b[0m\u001b[1;33m:\u001b[0m\u001b[1;33m\u001b[0m\u001b[1;33m\u001b[0m\u001b[0m\n\u001b[1;32m--> 152\u001b[1;33m         \u001b[0mret\u001b[0m \u001b[1;33m=\u001b[0m \u001b[0ma\u001b[0m \u001b[1;33m@\u001b[0m \u001b[0mb\u001b[0m\u001b[1;33m\u001b[0m\u001b[1;33m\u001b[0m\u001b[0m\n\u001b[0m\u001b[0;32m    153\u001b[0m \u001b[1;33m\u001b[0m\u001b[0m\n\u001b[0;32m    154\u001b[0m     if (sparse.issparse(a) and sparse.issparse(b)\n",
      "\u001b[1;32m~\\anaconda3\\lib\\site-packages\\scipy\\sparse\\base.py\u001b[0m in \u001b[0;36m__matmul__\u001b[1;34m(self, other)\u001b[0m\n\u001b[0;32m    558\u001b[0m             raise ValueError(\"Scalar operands are not allowed, \"\n\u001b[0;32m    559\u001b[0m                              \"use '*' instead\")\n\u001b[1;32m--> 560\u001b[1;33m         \u001b[1;32mreturn\u001b[0m \u001b[0mself\u001b[0m\u001b[1;33m.\u001b[0m\u001b[0m__mul__\u001b[0m\u001b[1;33m(\u001b[0m\u001b[0mother\u001b[0m\u001b[1;33m)\u001b[0m\u001b[1;33m\u001b[0m\u001b[1;33m\u001b[0m\u001b[0m\n\u001b[0m\u001b[0;32m    561\u001b[0m \u001b[1;33m\u001b[0m\u001b[0m\n\u001b[0;32m    562\u001b[0m     \u001b[1;32mdef\u001b[0m \u001b[0m__rmatmul__\u001b[0m\u001b[1;33m(\u001b[0m\u001b[0mself\u001b[0m\u001b[1;33m,\u001b[0m \u001b[0mother\u001b[0m\u001b[1;33m)\u001b[0m\u001b[1;33m:\u001b[0m\u001b[1;33m\u001b[0m\u001b[1;33m\u001b[0m\u001b[0m\n",
      "\u001b[1;32m~\\anaconda3\\lib\\site-packages\\scipy\\sparse\\base.py\u001b[0m in \u001b[0;36m__mul__\u001b[1;34m(self, other)\u001b[0m\n\u001b[0;32m    478\u001b[0m             \u001b[1;32mif\u001b[0m \u001b[0mself\u001b[0m\u001b[1;33m.\u001b[0m\u001b[0mshape\u001b[0m\u001b[1;33m[\u001b[0m\u001b[1;36m1\u001b[0m\u001b[1;33m]\u001b[0m \u001b[1;33m!=\u001b[0m \u001b[0mother\u001b[0m\u001b[1;33m.\u001b[0m\u001b[0mshape\u001b[0m\u001b[1;33m[\u001b[0m\u001b[1;36m0\u001b[0m\u001b[1;33m]\u001b[0m\u001b[1;33m:\u001b[0m\u001b[1;33m\u001b[0m\u001b[1;33m\u001b[0m\u001b[0m\n\u001b[0;32m    479\u001b[0m                 \u001b[1;32mraise\u001b[0m \u001b[0mValueError\u001b[0m\u001b[1;33m(\u001b[0m\u001b[1;34m'dimension mismatch'\u001b[0m\u001b[1;33m)\u001b[0m\u001b[1;33m\u001b[0m\u001b[1;33m\u001b[0m\u001b[0m\n\u001b[1;32m--> 480\u001b[1;33m             \u001b[1;32mreturn\u001b[0m \u001b[0mself\u001b[0m\u001b[1;33m.\u001b[0m\u001b[0m_mul_sparse_matrix\u001b[0m\u001b[1;33m(\u001b[0m\u001b[0mother\u001b[0m\u001b[1;33m)\u001b[0m\u001b[1;33m\u001b[0m\u001b[1;33m\u001b[0m\u001b[0m\n\u001b[0m\u001b[0;32m    481\u001b[0m \u001b[1;33m\u001b[0m\u001b[0m\n\u001b[0;32m    482\u001b[0m         \u001b[1;31m# If it's a list or whatever, treat it like a matrix\u001b[0m\u001b[1;33m\u001b[0m\u001b[1;33m\u001b[0m\u001b[0m\n",
      "\u001b[1;32m~\\anaconda3\\lib\\site-packages\\scipy\\sparse\\compressed.py\u001b[0m in \u001b[0;36m_mul_sparse_matrix\u001b[1;34m(self, other)\u001b[0m\n\u001b[0;32m    516\u001b[0m \u001b[1;33m\u001b[0m\u001b[0m\n\u001b[0;32m    517\u001b[0m         \u001b[0mindptr\u001b[0m \u001b[1;33m=\u001b[0m \u001b[0mnp\u001b[0m\u001b[1;33m.\u001b[0m\u001b[0mempty\u001b[0m\u001b[1;33m(\u001b[0m\u001b[0mmajor_axis\u001b[0m \u001b[1;33m+\u001b[0m \u001b[1;36m1\u001b[0m\u001b[1;33m,\u001b[0m \u001b[0mdtype\u001b[0m\u001b[1;33m=\u001b[0m\u001b[0midx_dtype\u001b[0m\u001b[1;33m)\u001b[0m\u001b[1;33m\u001b[0m\u001b[1;33m\u001b[0m\u001b[0m\n\u001b[1;32m--> 518\u001b[1;33m         \u001b[0mindices\u001b[0m \u001b[1;33m=\u001b[0m \u001b[0mnp\u001b[0m\u001b[1;33m.\u001b[0m\u001b[0mempty\u001b[0m\u001b[1;33m(\u001b[0m\u001b[0mnnz\u001b[0m\u001b[1;33m,\u001b[0m \u001b[0mdtype\u001b[0m\u001b[1;33m=\u001b[0m\u001b[0midx_dtype\u001b[0m\u001b[1;33m)\u001b[0m\u001b[1;33m\u001b[0m\u001b[1;33m\u001b[0m\u001b[0m\n\u001b[0m\u001b[0;32m    519\u001b[0m         \u001b[0mdata\u001b[0m \u001b[1;33m=\u001b[0m \u001b[0mnp\u001b[0m\u001b[1;33m.\u001b[0m\u001b[0mempty\u001b[0m\u001b[1;33m(\u001b[0m\u001b[0mnnz\u001b[0m\u001b[1;33m,\u001b[0m \u001b[0mdtype\u001b[0m\u001b[1;33m=\u001b[0m\u001b[0mupcast\u001b[0m\u001b[1;33m(\u001b[0m\u001b[0mself\u001b[0m\u001b[1;33m.\u001b[0m\u001b[0mdtype\u001b[0m\u001b[1;33m,\u001b[0m \u001b[0mother\u001b[0m\u001b[1;33m.\u001b[0m\u001b[0mdtype\u001b[0m\u001b[1;33m)\u001b[0m\u001b[1;33m)\u001b[0m\u001b[1;33m\u001b[0m\u001b[1;33m\u001b[0m\u001b[0m\n\u001b[0;32m    520\u001b[0m \u001b[1;33m\u001b[0m\u001b[0m\n",
      "\u001b[1;31mMemoryError\u001b[0m: Unable to allocate 897. MiB for an array with shape (235259094,) and data type int32"
     ]
    }
   ],
   "source": [
    "from sklearn.metrics.pairwise import linear_kernel\n",
    "from sklearn.feature_extraction.text import TfidfVectorizer\n",
    "\n",
    "# Assuming 'data' is your DataFrame\n",
    "\n",
    "# Combine relevant columns into a new column 'specificity'\n",
    "data['specificity'] = data['playlist_genre'] + ' ' + data['playlist_subgenre']\n",
    "\n",
    "# TF-IDF Vectorization\n",
    "tfidf_vectorizer = TfidfVectorizer(stop_words='english')\n",
    "tfidf_matrix = tfidf_vectorizer.fit_transform(data['specificity'])\n",
    "\n",
    "# Calculate the cosine similarity between items\n",
    "cosine_sim = linear_kernel(tfidf_matrix, tfidf_matrix)\n",
    "\n",
    "# Function to get recommendations based on item_id\n",
    "def get_recommendations(item_name, cosine_sim=cosine_sim):\n",
    "    # Check if the track_id exists in the DataFrame\n",
    "    if item_name not in data['track_name'].values:\n",
    "        print(f\"Track with track_id {item_name} not found.\")\n",
    "        return None\n",
    "\n",
    "    # Find the index of the item using the track_id\n",
    "    idx = data[data['track_name'] == item_name].index[0]\n",
    "\n",
    "    # Get the cosine similarity scores for the item\n",
    "    sim_scores = list(enumerate(cosine_sim[idx]))\n",
    "\n",
    "    # Sort the items based on similarity scores\n",
    "    sim_scores = sorted(sim_scores, key=lambda x: x[1], reverse=True)\n",
    "\n",
    "    # Get the indices of the top 3 similar items (excluding itself)\n",
    "    item_indices = [x[0] for x in sim_scores[1:4]]\n",
    "\n",
    "    # Return the track_id of the recommended items\n",
    "    return data['track_name'].iloc[item_indices]\n",
    "\n",
    "# Example: Get recommendations for item_id 1\n",
    "recommendations = get_recommendations('Someone You Loved')\n",
    "if recommendations is not None:\n",
    "    print(recommendations)\n"
   ]
  },
  {
   "cell_type": "code",
   "execution_count": null,
   "id": "qPNTDhuj5Fq_",
   "metadata": {
    "colab": {
     "base_uri": "https://localhost:8080/"
    },
    "id": "qPNTDhuj5Fq_",
    "outputId": "c9eab70b-62b2-4458-f78a-c0b1060d2dfc"
   },
   "outputs": [],
   "source": [
    "data_name=data['track_name']\n",
    "data_name"
   ]
  },
  {
   "cell_type": "code",
   "execution_count": null,
   "id": "knRxTosUDCpG",
   "metadata": {
    "id": "knRxTosUDCpG"
   },
   "outputs": [],
   "source": [
    "import pickle as pk\n",
    "pk.dump(data_name.to_dict(),open('name_dict.pkl','wb'))\n",
    "\n"
   ]
  },
  {
   "cell_type": "code",
   "execution_count": null,
   "id": "403cd29b",
   "metadata": {},
   "outputs": [],
   "source": [
    "data_name['track_name'].values"
   ]
  },
  {
   "cell_type": "markdown",
   "id": "zpurcWpV5Dma",
   "metadata": {
    "id": "zpurcWpV5Dma"
   },
   "source": []
  }
 ],
 "metadata": {
  "colab": {
   "provenance": []
  },
  "kernelspec": {
   "display_name": "Python 3 (ipykernel)",
   "language": "python",
   "name": "python3"
  },
  "language_info": {
   "codemirror_mode": {
    "name": "ipython",
    "version": 3
   },
   "file_extension": ".py",
   "mimetype": "text/x-python",
   "name": "python",
   "nbconvert_exporter": "python",
   "pygments_lexer": "ipython3",
   "version": "3.9.7"
  }
 },
 "nbformat": 4,
 "nbformat_minor": 5
}
